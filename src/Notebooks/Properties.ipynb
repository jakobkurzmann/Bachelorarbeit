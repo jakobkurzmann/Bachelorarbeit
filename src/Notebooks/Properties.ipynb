{
 "cells": [
  {
   "metadata": {},
   "cell_type": "markdown",
   "source": "# Node Embeddings with Properties",
   "id": "ef7df2f72cfcd28d"
  },
  {
   "metadata": {},
   "cell_type": "markdown",
   "source": [
    "### Imports\n",
    "Importieren der benötigten Bibliotheken\n"
   ],
   "id": "f644373649af2d17"
  },
  {
   "metadata": {
    "ExecuteTime": {
     "end_time": "2025-01-06T17:36:05.196582Z",
     "start_time": "2025-01-06T17:36:05.149833Z"
    }
   },
   "cell_type": "code",
   "source": [
    "from neo4j import GraphDatabase\n",
    "import graphdatascience"
   ],
   "id": "625291b2c47b9b37",
   "outputs": [],
   "execution_count": 36
  },
  {
   "metadata": {},
   "cell_type": "markdown",
   "source": [
    "### Connection\n",
    "Dabei wird eine Verbindung zur Datenbank aufgebaut und die Graph Data Science Library initialisiert."
   ],
   "id": "7156a80b1ef7a59f"
  },
  {
   "metadata": {
    "ExecuteTime": {
     "end_time": "2025-01-07T08:10:44.466650Z",
     "start_time": "2025-01-07T08:10:44.242377Z"
    }
   },
   "cell_type": "code",
   "source": [
    "gds = graphdatascience.GraphDataScience(\"neo4j://localhost:7687\", auth=(\"neo4j\", \"bachelorarbeit\"))\n",
    "gdsdriver = GraphDatabase.driver(\"neo4j://localhost:7687\", auth=(\"neo4j\", \"bachelorarbeit\")).session(database=\"neo4j\")"
   ],
   "id": "initial_id",
   "outputs": [],
   "execution_count": 60
  },
  {
   "metadata": {
    "ExecuteTime": {
     "end_time": "2025-01-07T08:11:50.966766Z",
     "start_time": "2025-01-07T08:11:46.632337Z"
    }
   },
   "cell_type": "code",
   "source": [
    "def run_query(query, parameters=None):\n",
    "    with gdsdriver as session:\n",
    "        result = session.run(query, parameters)\n",
    "        return [record.data() for record in result]\n",
    "    \n",
    "check_if_exist_query = \"\"\"\n",
    "RETURN gds.graph.exists('propertyGraph') \n",
    "\"\"\"\n",
    "\n",
    "# Projection query\n",
    "projection_query = \"\"\"\n",
    "MATCH (source)-[r:HAS_START|HAS_END|PARTICIPATED_IN|USED_IN]->(target)\n",
    "WHERE source:Trip\n",
    "WITH gds.graph.project(\n",
    "  'propertyGraphWithProperties',\n",
    "  source,\n",
    "  target,\n",
    "  {\n",
    "  sourceNodeProperties: source { year: coalesce(source.validFrom.year, 0), month: coalesce(source.validFrom.month, 0), day: coalesce(source.validFrom.day, 0),\n",
    "  hour: coalesce(source.validFrom.hour, 0), minute: coalesce(source.validFrom.minute, 0), weekday: coalesce(source.validFrom.dayOfWeek, 0)},\n",
    "  targetNodeProperties: target { year: coalesce(target.validFrom.year, 0), month: coalesce(target.validFrom.month, 0), day: coalesce(target.validFrom.day, 0),\n",
    "  hour: coalesce(target.validFrom.hour, 0), minute: coalesce(target.validFrom.minute, 0), weekday: coalesce(target.validFrom.dayOfWeek, 0)}\n",
    "  },\n",
    "  {undirectedRelationshipTypes: ['*']}\n",
    ") as g\n",
    "RETURN g.graphName AS graph, g.nodeCount AS nodes, g.relationshipCount AS rels\n",
    "\"\"\"\n",
    "\n",
    "run_query(projection_query)"
   ],
   "id": "fe06347de6b9c4fc",
   "outputs": [
    {
     "data": {
      "text/plain": [
       "[{'graph': 'propertyGraphWithProperties', 'nodes': 727085, 'rels': 2906174}]"
      ]
     },
     "execution_count": 62,
     "metadata": {},
     "output_type": "execute_result"
    }
   ],
   "execution_count": 62
  },
  {
   "metadata": {
    "ExecuteTime": {
     "end_time": "2025-01-07T08:11:55.209998Z",
     "start_time": "2025-01-07T08:11:55.030235Z"
    }
   },
   "cell_type": "code",
   "source": [
    "G = gds.graph.get(\"propertyGraphWithProperties\")\n",
    "\n",
    "result = gds.fastRP.write.estimate(\n",
    "    G,\n",
    "    writeProperty=\"temporalEmbeddingWithProperties1\",\n",
    "    randomSeed = 42,\n",
    "    embeddingDimension=128,\n",
    "    propertyRatio = 0.2,\n",
    "    featureProperties= ['day', 'hour', 'minute', 'weekday'],\n",
    "    iterationWeights=[1.0, 0.8, 0.8, 0.8])\n",
    "\n",
    "print(result)"
   ],
   "id": "84b51cdf4eb226c0",
   "outputs": [
    {
     "name": "stdout",
     "output_type": "stream",
     "text": [
      "requiredMemory                                                 599 MiB\n",
      "treeView             Memory Estimation: 599 MiB\\n|-- algorithm: 599...\n",
      "mapView              {'memoryUsage': '599 MiB', 'name': 'Memory Est...\n",
      "bytesMin                                                     628207232\n",
      "bytesMax                                                     628207232\n",
      "nodeCount                                                       727085\n",
      "relationshipCount                                              2906174\n",
      "heapPercentageMin                                                  0.2\n",
      "heapPercentageMax                                                  0.2\n",
      "Name: 0, dtype: object\n"
     ]
    }
   ],
   "execution_count": 63
  },
  {
   "metadata": {
    "ExecuteTime": {
     "end_time": "2025-01-07T08:26:50.814576Z",
     "start_time": "2025-01-07T08:23:22.806268Z"
    }
   },
   "cell_type": "code",
   "source": [
    "result = gds.fastRP.write(\n",
    "    G,\n",
    "    writeProperty=\"temporalEmbeddingWithProperties1\",\n",
    "    randomSeed = 42,\n",
    "    embeddingDimension=128,\n",
    "    propertyRatio = 0.2,\n",
    "    featureProperties= ['day', 'hour', 'minute', 'weekday'],\n",
    "    iterationWeights= [1.0, 0.8, 0.8, 0.8]\n",
    ")\n",
    "\n",
    "print(result)"
   ],
   "id": "36ded48c0ef490dd",
   "outputs": [
    {
     "data": {
      "text/plain": [
       "FastRP:   0%|          | 0/100 [00:00<?, ?%/s]"
      ],
      "application/vnd.jupyter.widget-view+json": {
       "version_major": 2,
       "version_minor": 0,
       "model_id": "3b336a10dab148e8ac4676c7b440bf80"
      }
     },
     "metadata": {},
     "output_type": "display_data"
    },
    {
     "name": "stdout",
     "output_type": "stream",
     "text": [
      "nodeCount                                                           727085\n",
      "nodePropertiesWritten                                               727085\n",
      "preProcessingMillis                                                      1\n",
      "computeMillis                                                         4103\n",
      "writeMillis                                                         203501\n",
      "configuration            {'writeProperty': 'temporalEmbeddingWithProper...\n",
      "Name: 0, dtype: object\n"
     ]
    }
   ],
   "execution_count": 65
  },
  {
   "metadata": {
    "ExecuteTime": {
     "end_time": "2025-01-07T08:34:24.318918Z",
     "start_time": "2025-01-07T08:34:23.732074Z"
    }
   },
   "cell_type": "code",
   "source": [
    "G.drop()\n",
    "gdsdriver.close()"
   ],
   "id": "2d4892bdf51e1522",
   "outputs": [],
   "execution_count": 66
  }
 ],
 "metadata": {
  "kernelspec": {
   "display_name": "Python 3",
   "language": "python",
   "name": "python3"
  },
  "language_info": {
   "codemirror_mode": {
    "name": "ipython",
    "version": 2
   },
   "file_extension": ".py",
   "mimetype": "text/x-python",
   "name": "python",
   "nbconvert_exporter": "python",
   "pygments_lexer": "ipython2",
   "version": "2.7.6"
  }
 },
 "nbformat": 4,
 "nbformat_minor": 5
}
