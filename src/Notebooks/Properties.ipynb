{
 "cells": [
  {
   "metadata": {},
   "cell_type": "markdown",
   "source": "# Node Embeddings with Properties",
   "id": "ef7df2f72cfcd28d"
  },
  {
   "metadata": {},
   "cell_type": "markdown",
   "source": [
    "### Imports\n",
    "Importieren der benötigten Bibliotheken\n"
   ],
   "id": "f644373649af2d17"
  },
  {
   "metadata": {
    "ExecuteTime": {
     "end_time": "2025-01-09T09:56:15.415941Z",
     "start_time": "2025-01-09T09:56:14.157227Z"
    }
   },
   "cell_type": "code",
   "source": [
    "from neo4j import GraphDatabase\n",
    "import graphdatascience"
   ],
   "id": "625291b2c47b9b37",
   "outputs": [
    {
     "name": "stderr",
     "output_type": "stream",
     "text": [
      "/Users/jakob/Development/Bachelorarbeit/.venv/lib/python3.9/site-packages/urllib3/__init__.py:35: NotOpenSSLWarning: urllib3 v2 only supports OpenSSL 1.1.1+, currently the 'ssl' module is compiled with 'LibreSSL 2.8.3'. See: https://github.com/urllib3/urllib3/issues/3020\n",
      "  warnings.warn(\n"
     ]
    }
   ],
   "execution_count": 2
  },
  {
   "metadata": {},
   "cell_type": "markdown",
   "source": [
    "### Connection\n",
    "Dabei wird eine Verbindung zur Datenbank aufgebaut und die Graph Data Science Library initialisiert."
   ],
   "id": "7156a80b1ef7a59f"
  },
  {
   "metadata": {
    "ExecuteTime": {
     "end_time": "2025-01-09T13:27:21.071363Z",
     "start_time": "2025-01-09T13:27:20.957427Z"
    }
   },
   "cell_type": "code",
   "source": [
    "gds = graphdatascience.GraphDataScience(\"neo4j://localhost:7687\", auth=(\"neo4j\", \"bachelorarbeit\"))\n",
    "gdsdriver = GraphDatabase.driver(\"neo4j://localhost:7687\", auth=(\"neo4j\", \"bachelorarbeit\")).session(database=\"neo4j\")"
   ],
   "id": "initial_id",
   "outputs": [],
   "execution_count": 9
  },
  {
   "metadata": {
    "ExecuteTime": {
     "end_time": "2025-01-09T13:27:44.952462Z",
     "start_time": "2025-01-09T13:27:38.187454Z"
    }
   },
   "cell_type": "code",
   "source": [
    "def run_query(query, parameters=None):\n",
    "    with gdsdriver as session:\n",
    "        result = session.run(query, parameters)\n",
    "        return [record.data() for record in result]\n",
    "    \n",
    "check_if_exist_query = \"\"\"\n",
    "RETURN gds.graph.exists('propertyGraph') \n",
    "\"\"\"\n",
    "\n",
    "# Projection query\n",
    "projection_query = \"\"\"\n",
    "MATCH (source)-[r:HAS_START|HAS_END]->(target)\n",
    "WHERE source:Trip\n",
    "WITH gds.graph.project(\n",
    "  'propertyGraphWithProperties',\n",
    "  source,\n",
    "  target,\n",
    "  {\n",
    "  sourceNodeProperties: source { year: coalesce(source.validFrom.year, 0), month: coalesce(source.validFrom.month, 0), day: coalesce(source.validFrom.day, 0),\n",
    "  hour: coalesce(source.validFrom.hour, 0), minute: coalesce(source.validFrom.minute, 0), weekday: coalesce(source.validFrom.dayOfWeek, 0)},\n",
    "  targetNodeProperties: target { year: coalesce(target.validFrom.year, 0), month: coalesce(target.validFrom.month, 0), day: coalesce(target.validFrom.day, 0),\n",
    "  hour: coalesce(target.validFrom.hour, 0), minute: coalesce(target.validFrom.minute, 0), weekday: coalesce(target.validFrom.dayOfWeek, 0)}\n",
    "  },\n",
    "  {undirectedRelationshipTypes: ['*']}\n",
    ") as g\n",
    "RETURN g.graphName AS graph, g.nodeCount AS nodes, g.relationshipCount AS rels\n",
    "\"\"\"\n",
    "\n",
    "advanced_projection_query = \"\"\"\n",
    "MATCH (source)-[r:HAS_START|HAS_END]->(target)MATCH (source)-[r:HAS_START|HAS_END]->(target)\n",
    "WHERE source:Trip\n",
    "WITH gds.graph.project(\n",
    "  'propertyGraphWithProperties',\n",
    "  source,\n",
    "  target,\n",
    "  {\n",
    "    sourceNodeProperties: source { \n",
    "      year: coalesce(source.validFrom.year, 0), \n",
    "      month: coalesce(source.validFrom.month, 0), \n",
    "      day: coalesce(source.validFrom.day, 0),\n",
    "      hour: coalesce(source.validFrom.hour, 0), \n",
    "      minute: coalesce(source.validFrom.minute, 0), \n",
    "      weekday: coalesce(source.validFrom.dayOfWeek, 0),\n",
    "      season: CASE\n",
    "                WHEN source.validFrom.month IN [12, 1, 2] THEN 1\n",
    "                WHEN source.validFrom.month IN [3, 4, 5] THEN 2\n",
    "                WHEN source.validFrom.month IN [6, 7, 8] THEN 3\n",
    "                WHEN source.validFrom.month IN [9, 10, 11] THEN 4\n",
    "                ELSE 0\n",
    "              END,\n",
    "      isWeekend: CASE\n",
    "                   WHEN source.validFrom.dayOfWeek IN [6, 7] THEN 1\n",
    "                   WHEN source.validFrom.dayOfWeek IN [1, 2, 3, 4, 5] THEN 0\n",
    "                   ELSE 2\n",
    "                 END\n",
    "    },\n",
    "    targetNodeProperties: target { \n",
    "      year: coalesce(target.validFrom.year, 0), \n",
    "      month: coalesce(target.validFrom.month, 0), \n",
    "      day: coalesce(target.validFrom.day, 0),\n",
    "      hour: coalesce(target.validFrom.hour, 0), \n",
    "      minute: coalesce(target.validFrom.minute, 0), \n",
    "      weekday: coalesce(target.validFrom.dayOfWeek, 0),\n",
    "      season: CASE\n",
    "                WHEN target.validFrom.month IN [12, 1, 2] THEN 1\n",
    "                WHEN target.validFrom.month IN [3, 4, 5] THEN 2\n",
    "                WHEN target.validFrom.month IN [6, 7, 8] THEN 3\n",
    "                WHEN target.validFrom.month IN [9, 10, 11] THEN 4\n",
    "                ELSE 0\n",
    "              END,\n",
    "      isWeekend: CASE\n",
    "                   WHEN target.validFrom.dayOfWeek IN [6, 7] THEN 1\n",
    "                     WHEN target.validFrom.dayOfWeek IN [1, 2, 3, 4, 5] THEN 0\n",
    "                   ELSE 2\n",
    "                 END\n",
    "    }\n",
    "  },\n",
    "  {undirectedRelationshipTypes: ['*']}\n",
    ") AS g\n",
    "RETURN g.graphName AS graph, g.nodeCount AS nodes, g.relationshipCount AS rels\n",
    "\"\"\"\n",
    "\n",
    "run_query(advanced_projection_query)"
   ],
   "id": "fe06347de6b9c4fc",
   "outputs": [
    {
     "data": {
      "text/plain": [
       "[{'graph': 'propertyGraphWithProperties', 'nodes': 727085, 'rels': 2906174}]"
      ]
     },
     "execution_count": 10,
     "metadata": {},
     "output_type": "execute_result"
    }
   ],
   "execution_count": 10
  },
  {
   "metadata": {
    "ExecuteTime": {
     "end_time": "2025-01-09T13:38:33.150177Z",
     "start_time": "2025-01-09T13:38:32.891463Z"
    }
   },
   "cell_type": "code",
   "source": [
    "G = gds.graph.get(\"propertyGraphWithProperties\")\n",
    "\n",
    "result = gds.fastRP.write.estimate(\n",
    "    G,\n",
    "    writeProperty=\"temporalEmbeddingOneIteration\",\n",
    "    randomSeed = 42,\n",
    "    embeddingDimension=128,\n",
    "    propertyRatio = 0.8,\n",
    "    featureProperties= ['day', 'hour', 'minute', 'weekday'],\n",
    "    iterationWeights=[1.0]\n",
    ")\n",
    "\n",
    "result"
   ],
   "id": "84b51cdf4eb226c0",
   "outputs": [
    {
     "data": {
      "text/plain": [
       "requiredMemory                                                1131 MiB\n",
       "treeView             Memory Estimation: 1131 MiB\\n|-- algorithm: 11...\n",
       "mapView              {'memoryUsage': '1131 MiB', 'name': 'Memory Es...\n",
       "bytesMin                                                    1186608864\n",
       "bytesMax                                                    1186608864\n",
       "nodeCount                                                       727085\n",
       "relationshipCount                                              2906174\n",
       "heapPercentageMin                                                  0.3\n",
       "heapPercentageMax                                                  0.3\n",
       "Name: 0, dtype: object"
      ]
     },
     "execution_count": 11,
     "metadata": {},
     "output_type": "execute_result"
    }
   ],
   "execution_count": 11
  },
  {
   "metadata": {
    "ExecuteTime": {
     "end_time": "2025-01-09T09:56:50.570722Z",
     "start_time": "2025-01-09T09:56:39.559368Z"
    }
   },
   "cell_type": "code",
   "source": [
    "result = gds.fastRP.write(\n",
    "    G,\n",
    "    writeProperty=\"temporalEmbeddingOneIteration\",\n",
    "    randomSeed = 42,\n",
    "    embeddingDimension=128,\n",
    "    propertyRatio = 0.8,\n",
    "    featureProperties= ['day', 'hour', 'minute', 'weekday'],\n",
    "    iterationWeights= [1.0]\n",
    ")\n",
    "\n",
    "print(result)"
   ],
   "id": "36ded48c0ef490dd",
   "outputs": [
    {
     "data": {
      "text/plain": [
       "FastRP:   0%|          | 0/100 [00:00<?, ?%/s]"
      ],
      "application/vnd.jupyter.widget-view+json": {
       "version_major": 2,
       "version_minor": 0,
       "model_id": "e9fea958b86d43ca80875c1ea092dbdf"
      }
     },
     "metadata": {},
     "output_type": "display_data"
    },
    {
     "name": "stdout",
     "output_type": "stream",
     "text": [
      "nodeCount                                                           727085\n",
      "nodePropertiesWritten                                               727085\n",
      "preProcessingMillis                                                      2\n",
      "computeMillis                                                         3722\n",
      "writeMillis                                                           7094\n",
      "configuration            {'writeProperty': 'temporalEmbeddingOneIterati...\n",
      "Name: 0, dtype: object\n"
     ]
    }
   ],
   "execution_count": 6
  },
  {
   "metadata": {
    "ExecuteTime": {
     "end_time": "2025-01-09T13:38:39.370785Z",
     "start_time": "2025-01-09T13:38:39.218273Z"
    }
   },
   "cell_type": "code",
   "source": [
    "G.drop()\n",
    "gdsdriver.close()"
   ],
   "id": "2d4892bdf51e1522",
   "outputs": [],
   "execution_count": 12
  },
  {
   "metadata": {},
   "cell_type": "code",
   "outputs": [],
   "execution_count": null,
   "source": "",
   "id": "11fc9a930af80fa7"
  }
 ],
 "metadata": {
  "kernelspec": {
   "display_name": "Python 3",
   "language": "python",
   "name": "python3"
  },
  "language_info": {
   "codemirror_mode": {
    "name": "ipython",
    "version": 2
   },
   "file_extension": ".py",
   "mimetype": "text/x-python",
   "name": "python",
   "nbconvert_exporter": "python",
   "pygments_lexer": "ipython2",
   "version": "2.7.6"
  }
 },
 "nbformat": 4,
 "nbformat_minor": 5
}
