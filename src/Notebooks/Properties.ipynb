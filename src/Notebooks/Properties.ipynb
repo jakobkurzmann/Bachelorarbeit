{
 "cells": [
  {
   "metadata": {},
   "cell_type": "markdown",
   "source": "# Temporal Node Embedding Property Approach",
   "id": "ef7df2f72cfcd28d"
  },
  {
   "metadata": {},
   "cell_type": "markdown",
   "source": [
    "#### Import the required libraries\n",
    "First of all we have to install and import the libraries that we need for the implementation of the Temporal Node Embedding.\n",
    "\n",
    "- neo4j: The Neo4j Python driver is used to connect to the Neo4j database. \n",
    "- graphdatascience: The graph datascience client is a Python client for working with the Neo4j Graph Data Science Library which is used for the in-memory graph projection and the FastRP algorithm for the embedding.\n"
   ],
   "id": "f644373649af2d17"
  },
  {
   "metadata": {},
   "cell_type": "code",
   "outputs": [],
   "execution_count": null,
   "source": [
    "%pip install neo4j\n",
    "%pip install graphdatascience"
   ],
   "id": "5639a69b4f220655"
  },
  {
   "metadata": {
    "ExecuteTime": {
     "end_time": "2025-02-06T13:22:49.051812Z",
     "start_time": "2025-02-06T13:22:49.048894Z"
    }
   },
   "cell_type": "code",
   "source": [
    "from neo4j import GraphDatabase\n",
    "import graphdatascience"
   ],
   "id": "625291b2c47b9b37",
   "outputs": [],
   "execution_count": 22
  },
  {
   "metadata": {},
   "cell_type": "markdown",
   "source": [
    "### Configure Driver and Client\n",
    "\n",
    "We have to configure the driver and the client for the connection to the Neo4j database. The driver is used to execute Cypher queries and the client is used to execute the Graph Data Science Library algorithms. \n",
    "\n",
    "- Endpoint: Bolt URL of the Neo4j database \n",
    "- Username: Username \n",
    "- Password: Password\n",
    "- database: Database where you imported the trips"
   ],
   "id": "d5cebe4df848e25f"
  },
  {
   "metadata": {
    "ExecuteTime": {
     "end_time": "2025-02-06T15:51:57.791343Z",
     "start_time": "2025-02-06T15:51:57.737857Z"
    }
   },
   "cell_type": "code",
   "source": [
    "gds = graphdatascience.GraphDataScience(\"neo4j://localhost:7687\", auth=(\"neo4j\", \"bachelorarbeit\"))\n",
    "gds.set_database(\"neo4j\")\n",
    "db_driver = GraphDatabase.driver(\"neo4j://localhost:7687\", auth=(\"neo4j\", \"bachelorarbeit\")).session(database=\"neo4j\")"
   ],
   "id": "initial_id",
   "outputs": [],
   "execution_count": 97
  },
  {
   "metadata": {
    "ExecuteTime": {
     "end_time": "2025-02-06T09:08:50.889333Z",
     "start_time": "2025-02-06T09:08:46.845819Z"
    }
   },
   "cell_type": "code",
   "source": [
    "# Projection query\n",
    "projection_query = \"\"\"\n",
    "MATCH (source)-[r:HAS_START|HAS_END]->(target)\n",
    "WHERE source:Trip\n",
    "WITH gds.graph.project(\n",
    "  'propertyGraphWithProperties',\n",
    "  source,\n",
    "  target,\n",
    "  {\n",
    "  sourceNodeProperties: source { year: coalesce(source.validFrom.year, 0), month: coalesce(source.validFrom.month, 0), day: coalesce(source.validFrom.day, 0),\n",
    "  hour: coalesce(source.validFrom.hour, 0), minute: coalesce(source.validFrom.minute, 0), weekday: coalesce(source.validFrom.dayOfWeek, 0)},\n",
    "  targetNodeProperties: target { year: coalesce(target.validFrom.year, 0), month: coalesce(target.validFrom.month, 0), day: coalesce(target.validFrom.day, 0),\n",
    "  hour: coalesce(target.validFrom.hour, 0), minute: coalesce(target.validFrom.minute, 0), weekday: coalesce(target.validFrom.dayOfWeek, 0)}\n",
    "  },\n",
    "  {undirectedRelationshipTypes: ['*']}\n",
    ") as g\n",
    "RETURN g.graphName AS graph, g.nodeCount AS nodes, g.relationshipCount AS rels\n",
    "\"\"\"\n",
    "\n",
    "advanced_projection_query = \"\"\"\n",
    "MATCH (source)-[r:HAS_START|HAS_END]->(target)\n",
    "WHERE source:Trip\n",
    "WITH gds.graph.project(\n",
    "  'propertyGraphWithProperties',\n",
    "  source,\n",
    "  target,\n",
    "  {\n",
    "    sourceNodeProperties: source { \n",
    "      year: coalesce(source.validFrom.year, 0), \n",
    "      month: coalesce(source.validFrom.month, 0), \n",
    "      day: coalesce(source.validFrom.day, 0),\n",
    "      hour: coalesce(source.validFrom.hour, 0), \n",
    "      minute: coalesce(source.validFrom.minute, 0), \n",
    "      weekday: coalesce(source.validFrom.dayOfWeek, 0),\n",
    "      season: CASE\n",
    "                WHEN source.validFrom.month IN [12, 1, 2] THEN 1\n",
    "                WHEN source.validFrom.month IN [3, 4, 5] THEN 2\n",
    "                WHEN source.validFrom.month IN [6, 7, 8] THEN 3\n",
    "                WHEN source.validFrom.month IN [9, 10, 11] THEN 4\n",
    "                ELSE 0\n",
    "              END,\n",
    "      isWeekend: CASE\n",
    "                   WHEN source.validFrom.dayOfWeek IN [6, 7] THEN 1\n",
    "                   WHEN source.validFrom.dayOfWeek IN [1, 2, 3, 4, 5] THEN 0\n",
    "                   ELSE 2\n",
    "                 END\n",
    "    },\n",
    "    targetNodeProperties: target { \n",
    "      year: coalesce(target.validFrom.year, 0), \n",
    "      month: coalesce(target.validFrom.month, 0), \n",
    "      day: coalesce(target.validFrom.day, 0),\n",
    "      hour: coalesce(target.validFrom.hour, 0), \n",
    "      minute: coalesce(target.validFrom.minute, 0), \n",
    "      weekday: coalesce(target.validFrom.dayOfWeek, 0),\n",
    "      season: CASE\n",
    "                WHEN target.validFrom.month IN [12, 1, 2] THEN 1\n",
    "                WHEN target.validFrom.month IN [3, 4, 5] THEN 2\n",
    "                WHEN target.validFrom.month IN [6, 7, 8] THEN 3\n",
    "                WHEN target.validFrom.month IN [9, 10, 11] THEN 4\n",
    "                ELSE 0\n",
    "              END,\n",
    "      isWeekend: CASE\n",
    "                   WHEN target.validFrom.dayOfWeek IN [6, 7] THEN 1\n",
    "                     WHEN target.validFrom.dayOfWeek IN [1, 2, 3, 4, 5] THEN 0\n",
    "                   ELSE 2\n",
    "                 END\n",
    "    }\n",
    "  },\n",
    "  {undirectedRelationshipTypes: ['*']}\n",
    ") AS g\n",
    "RETURN g.graphName AS graph, g.nodeCount AS nodes, g.relationshipCount AS rels\n",
    "\"\"\"\n",
    "\n",
    "run_query(advanced_projection_query)"
   ],
   "id": "fe06347de6b9c4fc",
   "outputs": [
    {
     "data": {
      "text/plain": [
       "[{'graph': 'propertyGraphWithProperties', 'nodes': 727085, 'rels': 2906174}]"
      ]
     },
     "execution_count": 3,
     "metadata": {},
     "output_type": "execute_result"
    }
   ],
   "execution_count": 3
  },
  {
   "metadata": {
    "ExecuteTime": {
     "end_time": "2025-02-06T15:50:43.977885Z",
     "start_time": "2025-02-06T15:50:43.969293Z"
    }
   },
   "cell_type": "code",
   "source": [
    "def run_query(query, parameters=None):\n",
    "    with db_driver as session:\n",
    "        result = session.run(query, parameters)\n",
    "        return [record.data() for record in result]"
   ],
   "id": "52707e636687a3a",
   "outputs": [],
   "execution_count": 89
  },
  {
   "metadata": {
    "ExecuteTime": {
     "end_time": "2025-02-06T14:09:22.361731Z",
     "start_time": "2025-02-06T14:09:14.274270Z"
    }
   },
   "cell_type": "code",
   "source": [
    "projection_query_id = \"\"\"\n",
    "MATCH (source)-[r:HAS_START|HAS_END]->(target)\n",
    "WHERE source:Trip\n",
    "WITH gds.graph.project(\n",
    "  'propertyGraphWithPropertiesId',\n",
    "  source,\n",
    "  target,\n",
    "  {\n",
    "  sourceNodeProperties: source { year: coalesce(source.validFrom.year, source.stationId), month: coalesce(source.validFrom.month, source.stationId), day: coalesce(source.validFrom.day, source.stationId),\n",
    "  hour: coalesce(source.validFrom.hour, source.stationId), minute: coalesce(source.validFrom.minute, source.stationId), weekday: coalesce(source.validFrom.dayOfWeek, source.stationId)},\n",
    "  targetNodeProperties: target { year: coalesce(target.validFrom.year, target.stationId), month: coalesce(target.validFrom.month, target.stationId), day: coalesce(target.validFrom.day, target.stationId),\n",
    "  hour: coalesce(target.validFrom.hour, target.stationId), minute: coalesce(target.validFrom.minute, target.stationId), weekday: coalesce(target.validFrom.dayOfWeek, target.stationId)}\n",
    "  },\n",
    "  {undirectedRelationshipTypes: ['*']}\n",
    ") as g\n",
    "RETURN g.graphName AS graph, g.nodeCount AS nodes, g.relationshipCount AS rels\n",
    "\"\"\"\n",
    "\n",
    "run_query(projection_query_id)"
   ],
   "id": "5ac13c78f7a402af",
   "outputs": [
    {
     "data": {
      "text/plain": [
       "[{'graph': 'propertyGraphWithPropertiesId', 'nodes': 727085, 'rels': 2906174}]"
      ]
     },
     "execution_count": 54,
     "metadata": {},
     "output_type": "execute_result"
    }
   ],
   "execution_count": 54
  },
  {
   "metadata": {
    "ExecuteTime": {
     "end_time": "2025-02-06T15:52:09.821450Z",
     "start_time": "2025-02-06T15:52:04.311168Z"
    }
   },
   "cell_type": "code",
   "source": [
    "projection_query = \"\"\"\n",
    "MATCH (source)-[r:HAS_START|HAS_END]->(target)\n",
    "WHERE source:Trip\n",
    "WITH gds.graph.project(\n",
    "  'propertyGraphWithPropertiesId',\n",
    "  source,\n",
    "  target,\n",
    "  {\n",
    "  sourceNodeProperties: source { \n",
    "    year: toFloat(coalesce(source.validFrom.year, source.stationId)), \n",
    "    month: toFloat(coalesce(source.validFrom.month, source.stationId)), \n",
    "    day: toFloat(coalesce(source.validFrom.day, source.stationId)),\n",
    "    hour: toFloat(coalesce(source.validFrom.hour, source.stationId)), \n",
    "    minute: toFloat(coalesce(source.validFrom.minute, source.stationId)), \n",
    "    weekday: toFloat(coalesce(source.validFrom.weekday, source.stationId))\n",
    "  },\n",
    "  targetNodeProperties: target { \n",
    "    year: toFloat(coalesce(target.year, target.stationId)), \n",
    "    month: toFloat(coalesce(target.month, target.stationId)), \n",
    "    day: toFloat(coalesce(target.day, target.stationId)),\n",
    "    hour: toFloat(coalesce(target.hour, target.stationId)), \n",
    "    minute: toFloat(coalesce(target.minute, target.stationId)), \n",
    "    weekday: toFloat(coalesce(target.weekday, target.stationId))\n",
    "  }\n",
    "  },\n",
    "  {undirectedRelationshipTypes: ['*']}\n",
    ") as g\n",
    "RETURN g.graphName AS graph, g.nodeCount AS nodes, g.relationshipCount AS rels\n",
    "\"\"\"\n",
    "\n",
    "run_query(projection_query_id)"
   ],
   "id": "3becfd869b5f1da7",
   "outputs": [
    {
     "data": {
      "text/plain": [
       "[{'graph': 'propertyGraphWithPropertiesId', 'nodes': 727085, 'rels': 1453087}]"
      ]
     },
     "execution_count": 98,
     "metadata": {},
     "output_type": "execute_result"
    }
   ],
   "execution_count": 98
  },
  {
   "metadata": {},
   "cell_type": "code",
   "source": [
    "G = gds.graph.get(\"propertyGraphWithPropertiesId\")\n",
    "\n",
    "result = gds.fastRP.write.estimate(\n",
    "    G,\n",
    "    writeProperty=\"temporalEmbeddingId\",\n",
    "    randomSeed = 42,\n",
    "    embeddingDimension=128,\n",
    "    propertyRatio = 0.5,\n",
    "    featureProperties= ['day', 'hour', 'minute', 'weekday'],\n",
    "    iterationWeights=[1.0]\n",
    ")\n",
    "\n",
    "result"
   ],
   "id": "84b51cdf4eb226c0",
   "outputs": [],
   "execution_count": null
  },
  {
   "metadata": {},
   "cell_type": "code",
   "source": [
    "gds.fastRP.write(\n",
    "    G,\n",
    "    writeProperty=\"temporalEmbeddingId\",\n",
    "    randomSeed = 42,\n",
    "    embeddingDimension=128,\n",
    "    nodeSelfInfluence=0.8,\n",
    "    propertyRatio = 0.5,\n",
    "    featureProperties= ['day', 'hour', 'minute', 'weekday'],\n",
    "    iterationWeights= [1.0]\n",
    ")\n"
   ],
   "id": "36ded48c0ef490dd",
   "outputs": [],
   "execution_count": null
  },
  {
   "metadata": {
    "ExecuteTime": {
     "end_time": "2025-02-06T15:51:02.044010Z",
     "start_time": "2025-02-06T15:51:01.986841Z"
    }
   },
   "cell_type": "code",
   "source": [
    "G.drop()\n",
    "gds.close()\n",
    "db_driver.close()"
   ],
   "id": "2d4892bdf51e1522",
   "outputs": [],
   "execution_count": 92
  },
  {
   "metadata": {},
   "cell_type": "code",
   "outputs": [],
   "execution_count": null,
   "source": "",
   "id": "c87edefe526b0ce8"
  }
 ],
 "metadata": {
  "kernelspec": {
   "display_name": "Python 3",
   "language": "python",
   "name": "python3"
  },
  "language_info": {
   "codemirror_mode": {
    "name": "ipython",
    "version": 2
   },
   "file_extension": ".py",
   "mimetype": "text/x-python",
   "name": "python",
   "nbconvert_exporter": "python",
   "pygments_lexer": "ipython2",
   "version": "2.7.6"
  }
 },
 "nbformat": 4,
 "nbformat_minor": 5
}
