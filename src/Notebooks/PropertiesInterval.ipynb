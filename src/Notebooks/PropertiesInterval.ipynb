{
 "cells": [
  {
   "metadata": {},
   "cell_type": "markdown",
   "source": "# Temporal Node Embedding Property Approach",
   "id": "910c1f35fd4cc64d"
  },
  {
   "metadata": {},
   "cell_type": "markdown",
   "source": [
    "#### Import the required libraries\n",
    "First of all we have to install and import the libraries that we need for the implementation of the Temporal Node Embedding.\n",
    "\n",
    "- neo4j: The Neo4j Python driver is used to connect to the Neo4j database.\n",
    "- graphdatascience: The graph datascience client is a Python client for working with the Neo4j Graph Data Science Library which is used for the in-memory graph projection and the FastRP algorithm for the embedding."
   ],
   "id": "1366c02b52186654"
  },
  {
   "metadata": {},
   "cell_type": "code",
   "outputs": [],
   "execution_count": null,
   "source": [
    "from requests import session\n",
    "%pip install neo4j\n",
    "%pip install graphdatascience"
   ],
   "id": "3f931cbdc97a87df"
  },
  {
   "metadata": {},
   "cell_type": "code",
   "outputs": [],
   "execution_count": null,
   "source": [
    "from neo4j import GraphDatabase\n",
    "import graphdatascience"
   ],
   "id": "7a8551b886d2a44c"
  },
  {
   "metadata": {},
   "cell_type": "markdown",
   "source": [
    "### Configure Driver and Client\n",
    "\n",
    "We have to configure the driver and the client for the connection to the Neo4j database. The driver is used to execute Cypher queries and the client is used to execute the Graph Data Science Library algorithms.\n",
    "\n",
    "- Endpoint: Bolt URL of the Neo4j database\n",
    "- Username: Username\n",
    "- Password: Password\n",
    "- database: Database where you imported the trips"
   ],
   "id": "db6594dcd38a6964"
  },
  {
   "metadata": {},
   "cell_type": "code",
   "outputs": [],
   "execution_count": null,
   "source": [
    "endpoint = \"neo4j://localhost:7687\"\n",
    "username = \"neo4j\"\n",
    "password = \"#Bachelorarbeit\"\n",
    "database = \"neo4j\"\n",
    "\n",
    "gds = graphdatascience.GraphDataScience(endpoint=endpoint, auth=(username, password))\n",
    "gds.set_database(database)\n",
    "\n",
    "db_driver = GraphDatabase.driver(endpoint, auth=(username,password)).session(database=database)"
   ],
   "id": "8279b89f55df7a98"
  },
  {
   "metadata": {},
   "cell_type": "markdown",
   "source": [
    "### Function for running Cypher Queries\n",
    "\n",
    "We introduce a simple function that will be used to run cypher queries. The function takes a query as an argument and returns the result of the query."
   ],
   "id": "ac937be67d1688fa"
  },
  {
   "metadata": {},
   "cell_type": "code",
   "outputs": [],
   "execution_count": null,
   "source": [
    "def run_query(query):\n",
    "    with db_driver as session:\n",
    "        result = session.run(query)\n",
    "        return [record.data() for record in result]\n"
   ],
   "id": "2a4f15a0f6a70b9c"
  },
  {
   "metadata": {},
   "cell_type": "markdown",
   "source": [
    "## Temporal Node Embedding with FastRP\n",
    "\n",
    "In this section we will create two in-memory graph projections of the Graph and apply the FastRP algorithm to calculate a start and endembedding which we will average to generate the final interval ebedding.\n"
   ],
   "id": "c8e59e69ebaa3baf"
  },
  {
   "metadata": {},
   "cell_type": "code",
   "outputs": [],
   "execution_count": null,
   "source": "",
   "id": "dc60b1878dd1b795"
  },
  {
   "metadata": {},
   "cell_type": "markdown",
   "source": "Now we will check if we created the memory graph correctly and save it into the variable G.",
   "id": "f2f8e384dcc5da1e"
  },
  {
   "metadata": {},
   "cell_type": "code",
   "outputs": [],
   "execution_count": null,
   "source": "G = gds.graph.get(\"propertiesStartGraph\")",
   "id": "c4a3057a51dec02c"
  },
  {
   "metadata": {},
   "cell_type": "code",
   "outputs": [],
   "execution_count": null,
   "source": [
    "gds.fastRP.write.estimate(\n",
    "    G,\n",
    "    writeProperty=\"propertiesStartEmbedding\",\n",
    "    randomSeed = 42,\n",
    "    embeddingDimension=128,\n",
    "    nodeSelfInfluence = 2.0,\n",
    "    propertyRatio = 0.5,\n",
    "    featureProperties = ['startMonth','startDay', 'startHour', 'startMinute', 'startWeekday', 'startSeason', 'startIsWeekend'],\n",
    "    iterationWeights = [1.0]\n",
    ")\n"
   ],
   "id": "c0fa128d233868ce"
  },
  {
   "metadata": {},
   "cell_type": "code",
   "outputs": [],
   "execution_count": null,
   "source": [
    "#Query braucht 12min\n",
    "gds.fastRP.write(\n",
    "    G,\n",
    "    writeProperty=\"propertiesStartEmbedding\",\n",
    "    randomSeed = 42,\n",
    "    embeddingDimension=128,\n",
    "    nodeSelfInfluence = 2.0,\n",
    "    propertyRatio = 0.5,\n",
    "    featureProperties = ['startMonth','startDay', 'startHour', 'startMinute', 'startWeekday', 'startSeason', 'startIsWeekend'],\n",
    "    iterationWeights= [1.0]\n",
    ")"
   ],
   "id": "5951d9b50701f1c7"
  },
  {
   "metadata": {},
   "cell_type": "code",
   "outputs": [],
   "execution_count": null,
   "source": "G.drop()",
   "id": "8355903f4b618abe"
  },
  {
   "metadata": {},
   "cell_type": "code",
   "outputs": [],
   "execution_count": null,
   "source": [
    "#Query braucht 2min\n",
    "\n",
    "projection_query  = \"\"\"\n",
    "MATCH (source)-[r:HAS_START|HAS_END]->(target)\n",
    "WHERE source:Trip AND target:Station\n",
    "WITH gds.graph.project(\n",
    "  'propertiesEndGraph',\n",
    "  source,\n",
    "  target,\n",
    "  {\n",
    "    sourceNodeProperties: source {\n",
    "      year: source.endYear,\n",
    "      month: source.endMonth,\n",
    "      day: source.endDay,\n",
    "      hour: source.endHour,\n",
    "      minute: source.endMinute,\n",
    "      weekday: source.endWeekday,\n",
    "      season: source.endSeason,\n",
    "      isWeekend: source.endIsWeekend\n",
    "    },\n",
    "    targetNodeProperties: target {\n",
    "      year: target.endYear,\n",
    "      month: target.endMonth,\n",
    "      day: target.endDay,\n",
    "      hour: target.endHour,\n",
    "      minute: target.endMinute,\n",
    "      weekday: target.endWeekday,\n",
    "      season: target.endSeason,\n",
    "      isWeekend: target.endIsWeekend\n",
    "    }},\n",
    "  {undirectedRelationshipTypes: ['*']}\n",
    ") AS g\n",
    "RETURN g.graphName AS graph, g.nodeCount AS nodes, g.relationshipCount AS rels\n",
    "\"\"\"\n",
    "run_query(projection_query)"
   ],
   "id": "6f313a9e323b64a0"
  },
  {
   "metadata": {},
   "cell_type": "markdown",
   "source": "Now we will check if we created the memory graph correctly and save it into the variable G.",
   "id": "4c26c56104375460"
  },
  {
   "metadata": {},
   "cell_type": "code",
   "outputs": [],
   "execution_count": null,
   "source": "G = gds.graph.get(\"propertiesEndGraph\")",
   "id": "a629ed02f8540850"
  },
  {
   "metadata": {},
   "cell_type": "code",
   "outputs": [],
   "execution_count": null,
   "source": [
    "gds.fastRP.write.estimate(\n",
    "    G,\n",
    "    writeProperty=\"propertyEndEmbedding\",\n",
    "    randomSeed = 42,\n",
    "    embeddingDimension=128,\n",
    "    nodeSelfInfluence = 2.0,\n",
    "    propertyRatio = 0.5,\n",
    "    featureProperties = ['endMonth','endDay', 'endHour', 'endMinute', 'endWeekday', 'endSeason', 'endIsWeekend'],\n",
    "    iterationWeights = [1.0]\n",
    ")\n"
   ],
   "id": "51584c7cec710ed"
  },
  {
   "metadata": {},
   "cell_type": "code",
   "outputs": [],
   "execution_count": null,
   "source": [
    "#Query braucht 12min\n",
    "gds.fastRP.write(\n",
    "    G,\n",
    "    writeProperty=\"propertyEndEmbedding\",\n",
    "    randomSeed = 42,\n",
    "    embeddingDimension=128,\n",
    "    nodeSelfInfluence = 2.0,\n",
    "    propertyRatio = 0.5,\n",
    "    featureProperties= ['endMonth','endDay', 'endHour', 'endMinute', 'endWeekday', 'endSeason', 'endIsWeekend'],\n",
    "    iterationWeights= [1.0]\n",
    ")"
   ],
   "id": "33493f6099e6ee4"
  },
  {
   "metadata": {},
   "cell_type": "code",
   "outputs": [],
   "execution_count": null,
   "source": "###Hier Query um Embeddings zusammenfließen zu lassen 2 Indexe und ein 3. für die ABfrage dann ?",
   "id": "b1ace76c84afe817"
  },
  {
   "metadata": {},
   "cell_type": "code",
   "outputs": [],
   "execution_count": null,
   "source": [
    "average_query = \"\"\"\n",
    "CALL apoc.periodic.iterate(\n",
    "  \"MATCH (t:Trip) WHERE t.propertyStartEmbedding IS NOT NULL AND t.propertyEndEmbedding IS NOT NULL RETURN t\",\n",
    "  \"WITH t, apoc.coll.zip(t.propertyStartEmbedding, t.propertyEndEmbedding) AS zipped\n",
    "   SET t.propertyIntervalEmbedding = [pair IN zipped | (pair[0] + pair[1]) / 2.0]\",\n",
    "  {batchSize:10000, parallel:true}\n",
    ")\"\"\"\n",
    "\n",
    "with db_driver.session() as session:\n",
    "    session.run(average_query)"
   ],
   "id": "8ab7f9a577f7c9b7"
  },
  {
   "metadata": {},
   "cell_type": "code",
   "outputs": [],
   "execution_count": null,
   "source": [
    "def create_vector_index(index_name, label, property_name, vector_dimension, similarity=\"cosine\"):\n",
    "    query = f\"\"\"\n",
    "    CREATE VECTOR INDEX {index_name} IF NOT EXISTS\n",
    "    FOR (n:{label})\n",
    "    ON (n.{property_name})\n",
    "    OPTIONS {{\n",
    "    indexConfig: {{\n",
    "        `vector.dimensions`: {vector_dimension},\n",
    "        `vector.similarity_function`: '{similarity}'\n",
    "        }}\n",
    "    }}\n",
    "    \"\"\"\n",
    "    run_query(query)\n",
    "create_vector_index( 'propertyIndex','Trip', 'propertyIntervalEmbedding', '128')"
   ],
   "id": "b3a19c05ee18da35"
  },
  {
   "metadata": {},
   "cell_type": "code",
   "outputs": [],
   "execution_count": null,
   "source": [
    "gds.close()\n",
    "db_driver.close()"
   ],
   "id": "77a669f06b032134"
  }
 ],
 "metadata": {
  "kernelspec": {
   "display_name": "Python 3",
   "language": "python",
   "name": "python3"
  },
  "language_info": {
   "codemirror_mode": {
    "name": "ipython",
    "version": 2
   },
   "file_extension": ".py",
   "mimetype": "text/x-python",
   "name": "python",
   "nbconvert_exporter": "python",
   "pygments_lexer": "ipython2",
   "version": "2.7.6"
  }
 },
 "nbformat": 4,
 "nbformat_minor": 5
}
