{
 "cells": [
  {
   "metadata": {},
   "cell_type": "markdown",
   "source": "# Temporal Node Embedding Time Tree Interval Approach",
   "id": "b6ae2037fd287110"
  },
  {
   "metadata": {},
   "cell_type": "markdown",
   "source": [
    "#### Import the required libraries\n",
    "\n",
    "First of all we have to install and import the libraries that we need for the implementation of the Time Tree Embedding.\n",
    "\n",
    "- neo4j: The Neo4j Python driver is used to connect to the Neo4j database. \n",
    "- graphdatascience: The graph datascience client is a Python client for working with the Neo4j Graph Data Science Library which is used for the in-memory graph projection and the FastRP algorithm for the embedding."
   ],
   "id": "cc8324ffa489d962"
  },
  {
   "metadata": {},
   "cell_type": "code",
   "source": [
    "%pip install neo4j\n",
    "%pip install graphdatascience"
   ],
   "id": "11787a2a065ebc0e",
   "outputs": [],
   "execution_count": null
  },
  {
   "metadata": {},
   "cell_type": "code",
   "source": [
    "from neo4j import GraphDatabase\n",
    "import graphdatascience"
   ],
   "id": "83fdb383c0f67528",
   "outputs": [],
   "execution_count": null
  },
  {
   "metadata": {},
   "cell_type": "markdown",
   "source": [
    "### Configure Driver and Client\n",
    "\n",
    "We have to configure the driver and the client for the connection to the Neo4j database. The driver is used to execute Cypher queries and the client is used to execute the Graph Data Science Library algorithms. \n",
    "\n",
    "- Endpoint: Bolt URL of the Neo4j database \n",
    "- Username: Username \n",
    "- Password: Password\n",
    "- database: Database where you imported the trips"
   ],
   "id": "b209e06656d566ff"
  },
  {
   "metadata": {},
   "cell_type": "code",
   "source": [
    "endpoint = \"neo4j://localhost:7687\"\n",
    "username = \"neo4j\"\n",
    "password = \"#Bachelorarbeit\"\n",
    "database = \"neo4j\"\n",
    "\n",
    "gds = graphdatascience.GraphDataScience(endpoint=endpoint, auth=(username, password))\n",
    "gds.set_database(database)\n",
    "\n",
    "db_driver = GraphDatabase.driver(endpoint, auth=(username,password)).session(database=database)"
   ],
   "id": "26dd6f14bba16fde",
   "outputs": [],
   "execution_count": null
  },
  {
   "metadata": {},
   "cell_type": "markdown",
   "source": [
    "### Constants for the Time Tree\n",
    "\n",
    "We define some constants for the Time Tree. The Time Tree is a tree structure that represents the time. In this work we only create the Time Tree for one year. Therefor it is possible to define the year, and calendar explicit. It would be possible to extend the Time Tree for multiple years but that is not part of this work. \n",
    "\n",
    "Year: Is the year for which the Time Tree is created.\n",
    "Calendar: The calendar is a dictionary that contains the number of days for each month.\n",
    "Hours: The number of hours in a day.\n",
    "Minutes: The minutes in an hour. We use 15 minutes as a time interval."
   ],
   "id": "2455c45dd8a80792"
  },
  {
   "metadata": {},
   "cell_type": "code",
   "source": [
    "YEAR = 2017\n",
    "HOURS = 24\n",
    "MINUTES = [0, 15, 30, 45]\n",
    "\n",
    "CALENDAR = {1: 31, 2: 28, 3: 31, 4: 30, 5: 31, 6: 30,\n",
    "            7: 31, 8: 31, 9: 30, 10: 31, 11: 30, 12: 31}"
   ],
   "id": "dcc1c054782a16eb",
   "outputs": [],
   "execution_count": null
  },
  {
   "metadata": {},
   "cell_type": "markdown",
   "source": [
    "### Function for running Cypher Queries\n",
    "\n",
    "We introduce a simple function that will be used to run cypher queries. The function takes a query as an argument and returns the result of the query."
   ],
   "id": "df39445227844c57"
  },
  {
   "metadata": {},
   "cell_type": "code",
   "source": [
    "def run_query(query):\n",
    "    with db_driver as session:\n",
    "        result = session.run(query)\n",
    "        return [record.data() for record in result]"
   ],
   "id": "e720c224283cab54",
   "outputs": [],
   "execution_count": null
  },
  {
   "metadata": {},
   "cell_type": "markdown",
   "source": [
    "### Helper Functions and Function for creating the Time Tree\n",
    "In this part we define some helper functions that are used to create the Time Tree and also the function that creates the Time Tree for one year. "
   ],
   "id": "2c4505c98357702e"
  },
  {
   "metadata": {},
   "cell_type": "code",
   "source": [
    "def add_root_node(tx):\n",
    "    return tx.run(\n",
    "        \"CREATE (root:Root)\"\n",
    "    )\n",
    "\n",
    "\n",
    "def add_has_year_relationship(tx, year):\n",
    "    return tx.run(\n",
    "        \"MATCH (r:Root) \"\n",
    "        \"CREATE (y:Year {value: $year}) \"\n",
    "        \"CREATE (r)-[:HAS_YEAR]->(y)\",\n",
    "        year=year\n",
    "    )\n",
    "\n",
    "\n",
    "def add_has_month_relationship(tx, year, month):\n",
    "    return tx.run(\n",
    "        \"MATCH (y:Year {value: $year}) \"\n",
    "        \"CREATE (m:Month {value: $month}) \"\n",
    "        \"CREATE (y)-[:HAS_MONTH]->(m)\",\n",
    "        year=year, month=month\n",
    "    )\n",
    "\n",
    "\n",
    "def add_has_month(tx, year, month):\n",
    "    return tx.run(\n",
    "        \"MATCH (y:Year {value: $year}) \"\n",
    "        \"CREATE (m:Month {value: $month}) \"\n",
    "        \"CREATE (y)-[:HAS_MONTH]->(m)\",\n",
    "        year=year, month=month\n",
    "    )\n",
    "\n",
    "\n",
    "def add_has_day(tx, month, day):\n",
    "    return tx.run(\n",
    "        \"MATCH (m:Month {value: $month}) \"\n",
    "        \"CREATE (d:Day {value: $day}) \"\n",
    "        \"CREATE (m)-[:HAS_DAY]->(d)\",\n",
    "        month=month, day=day\n",
    "    )\n",
    "\n",
    "def add_has_hour(tx, month, day, hour):\n",
    "    return tx.run(\n",
    "        \"CREATE (h:Hour {value: $hour})\"\n",
    "        \"WITH (h)\"\n",
    "        \"MATCH (m:Month{value: $month})-[:HAS_DAY]->(d:Day{value: $day})\"\n",
    "        \"MERGE (d)-[:HAS_HOUR]->(h)\",\n",
    "        month=month, day=day, hour=hour\n",
    "    )\n",
    "\n",
    "\n",
    "def next_relationship_in_month(tx, day, month):\n",
    "    return tx.run(\n",
    "        \"MATCH (m:Month {value: $month})-[:HAS_DAY]->(d:Day {value: $day}) \"\n",
    "        \"WITH d, d.value AS currentDay, d.value + 1 AS nextDay, m \"\n",
    "        \"MATCH (m)-[:HAS_DAY]->(n:Day {value: nextDay})\"\n",
    "        \"MERGE (d)-[:NEXT]->(n)\",\n",
    "        day=day, month=month\n",
    "    )\n",
    "\n",
    "\n",
    "def next_relationship_next_month(tx, day, month):\n",
    "    return tx.run(\n",
    "        \"\"\"\n",
    "        MATCH (m:Month {value: $month})-[:HAS_DAY]->(d:Day {value: $day})\n",
    "        WITH m, d, m.value AS currentMonth, m.value + 1 AS nextMonth\n",
    "        MATCH (c:Month {value: nextMonth})-[:HAS_DAY]->(k:Day {value: 1})\n",
    "        MERGE (d)-[:NEXT]->(k)\n",
    "        \"\"\",\n",
    "        day=day, month=month\n",
    "    )\n",
    "\n",
    "\n",
    "def has_minute(tx, month, day, hour, minute):\n",
    "    return tx.run(\n",
    "        \"CREATE (m:Minute {value: $minute})\"\n",
    "        \"WITH (m)\"\n",
    "        \"MATCH (month:Month{value: $month})-[:HAS_DAY]->(d:Day{value: $day})-[:HAS_HOUR]->(h:Hour{value: $hour})\"\n",
    "        \"CREATE (h)-[:HAS_MINUTE]->(m)\",\n",
    "        hour=hour, minute=minute, month=month, day=day\n",
    "    )\n",
    "\n",
    "def create_time_tree(year, driver):\n",
    "    with driver as session:\n",
    "        add_root_node(session)\n",
    "        add_has_year_relationship(session, year)\n",
    "\n",
    "        for month, days in CALENDAR.items():\n",
    "            add_has_month(session, year, month)\n",
    "            for day in range(1, days + 1):\n",
    "                add_has_day(session, month, day)\n",
    "                for hour in range(1, HOURS + 1):\n",
    "                    add_has_hour(session, month, day, hour)\n",
    "                    for minute in MINUTES:\n",
    "                        has_minute(session, month, day, hour, minute)\n",
    "            for day in range(1, days + 1):\n",
    "                if day < days:\n",
    "                    next_relationship_in_month(session, day, month)\n",
    "        for month, days in CALENDAR.items():\n",
    "            if month < 12:\n",
    "                next_relationship_next_month(session, days, month)\n",
    "\n",
    "create_time_tree(2017, db_driver)"
   ],
   "id": "b2f5b374eeb7ad9d",
   "outputs": [],
   "execution_count": null
  },
  {
   "metadata": {},
   "cell_type": "markdown",
   "source": [
    "### Connection between the Time Tree and the Trips\n",
    "In this section we provide a query that connects the trip nodes with the Time Tree. Therefor we preprocess the minute of a trip and round it to the floor of the nearest 15 minutes. After that we connect the trip with the minute node in the Time Tree with a STARTED_AT relationship."
   ],
   "id": "5119352791f348fb"
  },
  {
   "metadata": {},
   "cell_type": "code",
   "source": [
    "connection_timetree_trip_start = \"\"\"CALL apoc.periodic.iterate(\n",
    "  \"\n",
    "  MATCH (t:Trip)\n",
    "  RETURN t, \n",
    "         t.validFrom.year AS year, \n",
    "         t.validFrom.month AS month, \n",
    "         t.validFrom.day AS day, \n",
    "         t.validFrom.hour AS hour, \n",
    "         CASE \n",
    "           WHEN t.validFrom.minute % 15 = 0 THEN t.validFrom.minute\n",
    "           ELSE toInteger(floor(t.validFrom.minute / 15.0) * 15)\n",
    "         END AS roundedMinute\n",
    "  \",\n",
    "  \"\n",
    "  MATCH (:Year {value: year})-[:HAS_MONTH]->(:Month {value: month})-[:HAS_DAY]->(:Day {value: day})-[:HAS_HOUR]->(:Hour {value: hour})-[:HAS_MINUTE]->(mi:Minute {value: roundedMinute})\n",
    "  MERGE (t)-[:STARTED_AT]->(mi)\n",
    "  \",\n",
    "  {batchSize: 1000, parallel: false}\n",
    ") YIELD batches, total\n",
    "RETURN batches, total;\n",
    "\"\"\"\n",
    "\n",
    "connection_timetree_trip_end = \"\"\"CALL apoc.periodic.iterate(\n",
    "  \"\n",
    "  MATCH (t:Trip)\n",
    "  RETURN t, \n",
    "         t.validTo.year AS validToYear, \n",
    "         t.validTo.month AS validToMonth, \n",
    "         t.validTo.day AS validToDay, \n",
    "         t.validTo.hour AS validToHour, \n",
    "         CASE \n",
    "           WHEN t.validTo.minute % 15 = 0 THEN t.validTo.minute\n",
    "           ELSE toInteger(floor(t.validTo.minute / 15.0) * 15)\n",
    "         END AS validToRoundedMinute\n",
    "  \",\n",
    "  \"\n",
    "  // Verbinde validTo mit dem TimeTree\n",
    "  MATCH (:Year {value: validToYear})-[:HAS_MONTH]->(:Month {value: validToMonth})-[:HAS_DAY]->(:Day {value: validToDay})-[:HAS_HOUR]->(:Hour {value: validToHour})-[:HAS_MINUTE]->(toMinute:Minute {value: validToRoundedMinute})\n",
    "  MERGE (t)-[:ENDED_AT]->(toMinute)\n",
    "  \",\n",
    "  {batchSize: 1000, parallel: false}\n",
    ") YIELD batches, total\n",
    "RETURN batches, total;\"\"\"\n",
    "\n",
    "\n",
    "run_query(connection_timetree_trip_start)\n",
    "run_query(connection_timetree_trip_end)"
   ],
   "id": "f79b2d2de67e7cc3",
   "outputs": [],
   "execution_count": null
  },
  {
   "metadata": {},
   "cell_type": "markdown",
   "source": [
    "## Temporal Node Embedding with FastRP\n",
    "\n",
    "In this section we will create the in-memory graph projection of the Time Tree and apply the FastRP algorithm to embed the nodes of the Time Tree.\n"
   ],
   "id": "78e6153e2bcbf48a"
  },
  {
   "metadata": {},
   "cell_type": "markdown",
   "source": [
    "### Create the In-Memory Graph Projection\n",
    "First we create the in-memory graph projection of the Time Tree. This is necessary to apply the FastRP algorithm to the Time Tree. Projected graphs can also include additional numerical properties from the original graph. In case of the Time Tree we only use the structure of the Time Tree and the trip and station nodes from the original graph."
   ],
   "id": "6c621e5bfc86ea8a"
  },
  {
   "metadata": {},
   "cell_type": "code",
   "source": [
    "create_memory_graph = \"\"\"\n",
    "MATCH (source)-[r:HAS_MONTH|HAS_DAY|NEXT|HAS_HOUR|HAS_MINUTE|STARTED_AT|ENDED_AT|HAS_START|HAS_END]->(target)\n",
    "WITH gds.graph.project(\n",
    "  'timeTreeInterval',\n",
    "  source,\n",
    "  target,\n",
    "  {},\n",
    "  {undirectedRelationshipTypes: ['*']}\n",
    ")as g\n",
    "RETURN g.graphName AS graph, g.nodeCount AS nodes, g.relationshipCount AS rels\n",
    "\"\"\" \n",
    "\n",
    "run_query(create_memory_graph)"
   ],
   "id": "ec4716277727a1ba",
   "outputs": [],
   "execution_count": null
  },
  {
   "metadata": {},
   "cell_type": "markdown",
   "source": "Now we will check if we created the memory graph correctly and save it into the variable G.",
   "id": "98fa2c296aa44f71"
  },
  {
   "metadata": {},
   "cell_type": "code",
   "source": "G = gds.graph.get(\"timeTreeInterval\")",
   "id": "105cfa5734a28bc",
   "outputs": [],
   "execution_count": null
  },
  {
   "metadata": {},
   "cell_type": "markdown",
   "source": [
    "### FastRP Algorithm Estimation\n",
    "We estimate the FastRP algorithm. If we checked those with our resources we can run the FastRP algorithm to embed the nodes of the Time Tree."
   ],
   "id": "636d60b36910c444"
  },
  {
   "metadata": {},
   "cell_type": "code",
   "source": [
    "gds.fastRP.write.estimate(\n",
    "    G,\n",
    "    writeProperty=\"timeTreeIntervalEmbedding\",\n",
    "    randomSeed = 42,\n",
    "    embeddingDimension=64,\n",
    "    iterationWeights=[1.0,1.0,1.0,1.0,1.0]\n",
    ")"
   ],
   "id": "f9bfcb28de4f97a4",
   "outputs": [],
   "execution_count": null
  },
  {
   "metadata": {},
   "cell_type": "markdown",
   "source": [
    "### FastRP Algorithm Execution\n",
    "Now we run the FastRP algorithm to embed the nodes of the Time Tree. We will write the embedding into the property timeTreeIntervalEmbedding."
   ],
   "id": "b79996caedd4080a"
  },
  {
   "metadata": {},
   "cell_type": "code",
   "source": [
    "result = gds.fastRP.write(\n",
    "    G,\n",
    "    writeProperty=\"timeTreeIntervalEmbedding\",\n",
    "    randomSeed = 42,\n",
    "    embeddingDimension=64,\n",
    "    iterationWeights=[1.0,1.0,1.0,1.0,1.0]\n",
    ")"
   ],
   "id": "baeff80a6cc42c4f",
   "outputs": [],
   "execution_count": null
  },
  {
   "metadata": {},
   "cell_type": "markdown",
   "source": [
    "### Dropping Graph and Closing Connection\n",
    "After we have finished the embedding we can drop the graph and close the connection to the database."
   ],
   "id": "e421bde2880a357f"
  },
  {
   "metadata": {},
   "cell_type": "code",
   "source": [
    "G.drop()\n",
    "db_driver.close()\n",
    "gds.close()"
   ],
   "id": "71ce8ec9af842ac",
   "outputs": [],
   "execution_count": null
  }
 ],
 "metadata": {
  "kernelspec": {
   "display_name": "Python 3",
   "language": "python",
   "name": "python3"
  },
  "language_info": {
   "codemirror_mode": {
    "name": "ipython",
    "version": 2
   },
   "file_extension": ".py",
   "mimetype": "text/x-python",
   "name": "python",
   "nbconvert_exporter": "python",
   "pygments_lexer": "ipython2",
   "version": "2.7.6"
  }
 },
 "nbformat": 4,
 "nbformat_minor": 5
}
