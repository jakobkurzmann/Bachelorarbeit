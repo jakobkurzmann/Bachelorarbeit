{
 "cells": [
  {
   "cell_type": "code",
   "id": "initial_id",
   "metadata": {
    "collapsed": true,
    "ExecuteTime": {
     "end_time": "2025-01-07T19:56:22.641035Z",
     "start_time": "2025-01-07T19:56:21.252689Z"
    }
   },
   "source": [
    "from neo4j import GraphDatabase\n",
    "import graphdatascience"
   ],
   "outputs": [
    {
     "name": "stderr",
     "output_type": "stream",
     "text": [
      "/Users/jakob/Development/Bachelorarbeit/.venv/lib/python3.9/site-packages/urllib3/__init__.py:35: NotOpenSSLWarning: urllib3 v2 only supports OpenSSL 1.1.1+, currently the 'ssl' module is compiled with 'LibreSSL 2.8.3'. See: https://github.com/urllib3/urllib3/issues/3020\n",
      "  warnings.warn(\n"
     ]
    }
   ],
   "execution_count": 2
  },
  {
   "metadata": {},
   "cell_type": "markdown",
   "source": "Time Tree Embedding",
   "id": "95a0f08ac15efdcb"
  },
  {
   "metadata": {
    "ExecuteTime": {
     "end_time": "2025-01-07T19:56:43.881545Z",
     "start_time": "2025-01-07T19:56:43.137827Z"
    }
   },
   "cell_type": "code",
   "source": [
    "gds = graphdatascience.GraphDataScience(\"neo4j://localhost:7687\", auth=(\"neo4j\", \"bachelorarbeit\"))\n",
    "gdsdriver = GraphDatabase.driver(\"neo4j://localhost:7687\", auth=(\"neo4j\", \"bachelorarbeit\")).session(database=\"timetree\")"
   ],
   "id": "26dd6f14bba16fde",
   "outputs": [],
   "execution_count": 3
  },
  {
   "metadata": {
    "ExecuteTime": {
     "end_time": "2025-01-07T20:02:43.189908Z",
     "start_time": "2025-01-07T19:56:46.673651Z"
    }
   },
   "cell_type": "code",
   "source": [
    "# Calendar 1 is January, 2 is February, etc.\n",
    "calendar = {1: 31, 2: 28, 3: 31, 4: 30, 5: 31, 6: 30,\n",
    "            7: 31, 8: 31, 9: 30, 10: 31, 11: 30, 12: 31}\n",
    "\n",
    "hours = 24\n",
    "\n",
    "minutes = [0, 15, 30, 45]\n",
    "\n",
    "def run_query(query, parameters=None):\n",
    "    with gdsdriver as session:\n",
    "        result = session.run(query, parameters)\n",
    "        return [record.data() for record in result]\n",
    "\n",
    "# Root Knoten der als Wurzel für den Baum dient\n",
    "def add_root_node(tx):\n",
    "    return tx.run(\n",
    "        \"CREATE (root:Root)\"\n",
    "    )\n",
    "\n",
    "\n",
    "def add_has_year_relationship(tx, year):\n",
    "    return tx.run(\n",
    "        \"MATCH (r:Root) \"\n",
    "        \"CREATE (y:Year {value: $year}) \"\n",
    "        \"CREATE (r)-[:HAS_YEAR]->(y)\",\n",
    "        year=year\n",
    "    )\n",
    "\n",
    "\n",
    "def add_has_month_relationship(tx, year, month):\n",
    "    return tx.run(\n",
    "        \"MATCH (y:Year {value: $year}) \"\n",
    "        \"CREATE (m:Month {value: $month}) \"\n",
    "        \"CREATE (y)-[:HAS_MONTH]->(m)\",\n",
    "        year=year, month=month\n",
    "    )\n",
    "\n",
    "\n",
    "def add_has_month(tx, year, month):\n",
    "    return tx.run(\n",
    "        \"MATCH (y:Year {value: $year}) \"\n",
    "        \"CREATE (m:Month {value: $month}) \"\n",
    "        \"CREATE (y)-[:HAS_MONTH]->(m)\",\n",
    "        year=year, month=month\n",
    "    )\n",
    "\n",
    "\n",
    "def add_has_day(tx, month, day):\n",
    "    return tx.run(\n",
    "        \"MATCH (m:Month {value: $month}) \"\n",
    "        \"CREATE (d:Day {value: $day}) \"\n",
    "        \"CREATE (m)-[:HAS_DAY]->(d)\",\n",
    "        month=month, day=day\n",
    "    )\n",
    "\n",
    "def add_has_hour(tx, month, day, hour):\n",
    "    return tx.run(\n",
    "        \"CREATE (h:Hour {value: $hour})\"\n",
    "        \"WITH (h)\"\n",
    "        \"MATCH (m:Month{value: $month})-[:HAS_DAY]->(d:Day{value: $day})\"\n",
    "        \"MERGE (d)-[:HAS_HOUR]->(h)\",\n",
    "        month=month, day=day, hour=hour\n",
    "    )\n",
    "\n",
    "\n",
    "def next_relationship_in_month(tx, day, month):\n",
    "    return tx.run(\n",
    "        \"MATCH (m:Month {value: $month})-[:HAS_DAY]->(d:Day {value: $day}) \"\n",
    "        \"WITH d, d.value AS currentDay, d.value + 1 AS nextDay, m \"\n",
    "        \"MATCH (m)-[:HAS_DAY]->(n:Day {value: nextDay})\"\n",
    "        \"MERGE (d)-[:NEXT]->(n)\",\n",
    "        day=day, month=month\n",
    "    )\n",
    "\n",
    "\n",
    "def next_relationship_next_month(tx, day, month):\n",
    "    return tx.run(\n",
    "        \"\"\"\n",
    "        MATCH (m:Month {value: $month})-[:HAS_DAY]->(d:Day {value: $day})\n",
    "        WITH m, d, m.value AS currentMonth, m.value + 1 AS nextMonth\n",
    "        MATCH (c:Month {value: nextMonth})-[:HAS_DAY]->(k:Day {value: 1})\n",
    "        MERGE (d)-[:NEXT]->(k)\n",
    "        \"\"\",\n",
    "        day=day, month=month\n",
    "    )\n",
    "\n",
    "\n",
    "def has_minute(tx, month, day, hour, minute):\n",
    "    return tx.run(\n",
    "        \"CREATE (m:Minute {value: $minute})\"\n",
    "        \"WITH (m)\"\n",
    "        \"MATCH (month:Month{value: $month})-[:HAS_DAY]->(d:Day{value: $day})-[:HAS_HOUR]->(h:Hour{value: $hour})\"\n",
    "        \"CREATE (h)-[:HAS_MINUTE]->(m)\",\n",
    "        hour=hour, minute=minute, month=month, day=day\n",
    "    )\n",
    "\n",
    "def create_time_tree(year, driver):\n",
    "    with driver as session:\n",
    "        add_root_node(session)\n",
    "        add_has_year_relationship(session, year)\n",
    "\n",
    "        for month, days in calendar.items():\n",
    "            add_has_month(session, year, month)\n",
    "            for day in range(1, days + 1):\n",
    "                add_has_day(session, month, day)\n",
    "                for hour in range(1, hours + 1):\n",
    "                    add_has_hour(session, month, day, hour)\n",
    "                    for minute in minutes:\n",
    "                        has_minute(session, month, day, hour, minute)\n",
    "            for day in range(1, days + 1):\n",
    "                if day < days:\n",
    "                    next_relationship_in_month(session, day, month)\n",
    "        for month, days in calendar.items():\n",
    "            if month < 12:\n",
    "                next_relationship_next_month(session, days, month)\n",
    "                \n",
    "\n",
    "\n",
    "connection_timetree_trip = \"\"\"CALL apoc.periodic.iterate(\n",
    "  \"\n",
    "  MATCH (t:Trip)\n",
    "  RETURN t, \n",
    "         t.validFrom.year AS year, \n",
    "         t.validFrom.month AS month, \n",
    "         t.validFrom.day AS day, \n",
    "         t.validFrom.hour AS hour, \n",
    "         CASE \n",
    "           WHEN t.validFrom.minute % 15 = 0 THEN t.validFrom.minute\n",
    "           ELSE toInteger(floor(t.validFrom.minute / 15.0) * 15)\n",
    "         END AS roundedMinute\n",
    "  \",\n",
    "  \"\n",
    "  MATCH (:Year {value: year})-[:HAS_MONTH]->(:Month {value: month})-[:HAS_DAY]->(:Day {value: day})-[:HAS_HOUR]->(:Hour {value: hour})-[:HAS_MINUTE]->(mi:Minute {value: roundedMinute})\n",
    "  MERGE (t)-[:STARTED_AT]->(mi)\n",
    "  \",\n",
    "  {batchSize: 1000, parallel: false}\n",
    ") YIELD batches, total\n",
    "RETURN batches, total;\n",
    "\"\"\""
   ],
   "id": "b2f5b374eeb7ad9d",
   "outputs": [],
   "execution_count": 4
  },
  {
   "metadata": {
    "ExecuteTime": {
     "end_time": "2025-01-08T09:24:45.507345Z",
     "start_time": "2025-01-08T09:24:44.915785Z"
    }
   },
   "cell_type": "code",
   "source": [
    "create_time_tree(2017, gdsdriver)\n",
    "run_query(connection_timetree_trip)"
   ],
   "id": "fafcb9c8d892a5b4",
   "outputs": [
    {
     "ename": "SessionError",
     "evalue": "Session closed",
     "output_type": "error",
     "traceback": [
      "\u001B[0;31m---------------------------------------------------------------------------\u001B[0m",
      "\u001B[0;31mSessionError\u001B[0m                              Traceback (most recent call last)",
      "Cell \u001B[0;32mIn[5], line 1\u001B[0m\n\u001B[0;32m----> 1\u001B[0m \u001B[43mcreate_time_tree\u001B[49m\u001B[43m(\u001B[49m\u001B[38;5;241;43m2017\u001B[39;49m\u001B[43m,\u001B[49m\u001B[43m \u001B[49m\u001B[43mgdsdriver\u001B[49m\u001B[43m)\u001B[49m\n",
      "Cell \u001B[0;32mIn[4], line 95\u001B[0m, in \u001B[0;36mcreate_time_tree\u001B[0;34m(year, driver)\u001B[0m\n\u001B[1;32m     93\u001B[0m \u001B[38;5;28;01mdef\u001B[39;00m \u001B[38;5;21mcreate_time_tree\u001B[39m(year, driver):\n\u001B[1;32m     94\u001B[0m     \u001B[38;5;28;01mwith\u001B[39;00m driver \u001B[38;5;28;01mas\u001B[39;00m session:\n\u001B[0;32m---> 95\u001B[0m         \u001B[43madd_root_node\u001B[49m\u001B[43m(\u001B[49m\u001B[43msession\u001B[49m\u001B[43m)\u001B[49m\n\u001B[1;32m     96\u001B[0m         add_has_year_relationship(session, year)\n\u001B[1;32m     98\u001B[0m         \u001B[38;5;28;01mfor\u001B[39;00m month, days \u001B[38;5;129;01min\u001B[39;00m calendar\u001B[38;5;241m.\u001B[39mitems():\n",
      "Cell \u001B[0;32mIn[4], line 12\u001B[0m, in \u001B[0;36madd_root_node\u001B[0;34m(tx)\u001B[0m\n\u001B[1;32m     11\u001B[0m \u001B[38;5;28;01mdef\u001B[39;00m \u001B[38;5;21madd_root_node\u001B[39m(tx):\n\u001B[0;32m---> 12\u001B[0m     \u001B[38;5;28;01mreturn\u001B[39;00m \u001B[43mtx\u001B[49m\u001B[38;5;241;43m.\u001B[39;49m\u001B[43mrun\u001B[49m\u001B[43m(\u001B[49m\n\u001B[1;32m     13\u001B[0m \u001B[43m        \u001B[49m\u001B[38;5;124;43m\"\u001B[39;49m\u001B[38;5;124;43mCREATE (root:Root)\u001B[39;49m\u001B[38;5;124;43m\"\u001B[39;49m\n\u001B[1;32m     14\u001B[0m \u001B[43m    \u001B[49m\u001B[43m)\u001B[49m\n",
      "File \u001B[0;32m~/Development/Bachelorarbeit/.venv/lib/python3.9/site-packages/neo4j/_sync/work/session.py:288\u001B[0m, in \u001B[0;36mSession.run\u001B[0;34m(self, query, parameters, **kwargs)\u001B[0m\n\u001B[1;32m    252\u001B[0m \u001B[38;5;129m@NonConcurrentMethodChecker\u001B[39m\u001B[38;5;241m.\u001B[39mnon_concurrent_method\n\u001B[1;32m    253\u001B[0m \u001B[38;5;28;01mdef\u001B[39;00m \u001B[38;5;21mrun\u001B[39m(\n\u001B[1;32m    254\u001B[0m     \u001B[38;5;28mself\u001B[39m,\n\u001B[0;32m   (...)\u001B[0m\n\u001B[1;32m    257\u001B[0m     \u001B[38;5;241m*\u001B[39m\u001B[38;5;241m*\u001B[39mkwargs: t\u001B[38;5;241m.\u001B[39mAny\n\u001B[1;32m    258\u001B[0m ) \u001B[38;5;241m-\u001B[39m\u001B[38;5;241m>\u001B[39m Result:\n\u001B[1;32m    259\u001B[0m \u001B[38;5;250m    \u001B[39m\u001B[38;5;124;03m\"\"\"Run a Cypher query within an auto-commit transaction.\u001B[39;00m\n\u001B[1;32m    260\u001B[0m \n\u001B[1;32m    261\u001B[0m \u001B[38;5;124;03m    The query is sent and the result header received\u001B[39;00m\n\u001B[0;32m   (...)\u001B[0m\n\u001B[1;32m    286\u001B[0m \u001B[38;5;124;03m    :raises SessionError: if the session has been closed.\u001B[39;00m\n\u001B[1;32m    287\u001B[0m \u001B[38;5;124;03m    \"\"\"\u001B[39;00m\n\u001B[0;32m--> 288\u001B[0m     \u001B[38;5;28;43mself\u001B[39;49m\u001B[38;5;241;43m.\u001B[39;49m\u001B[43m_check_state\u001B[49m\u001B[43m(\u001B[49m\u001B[43m)\u001B[49m\n\u001B[1;32m    289\u001B[0m     \u001B[38;5;28;01mif\u001B[39;00m \u001B[38;5;129;01mnot\u001B[39;00m query:\n\u001B[1;32m    290\u001B[0m         \u001B[38;5;28;01mraise\u001B[39;00m \u001B[38;5;167;01mValueError\u001B[39;00m(\u001B[38;5;124m\"\u001B[39m\u001B[38;5;124mCannot run an empty query\u001B[39m\u001B[38;5;124m\"\u001B[39m)\n",
      "File \u001B[0;32m~/Development/Bachelorarbeit/.venv/lib/python3.9/site-packages/neo4j/_sync/work/workspace.py:214\u001B[0m, in \u001B[0;36mWorkspace._check_state\u001B[0;34m(self)\u001B[0m\n\u001B[1;32m    212\u001B[0m \u001B[38;5;28;01mdef\u001B[39;00m \u001B[38;5;21m_check_state\u001B[39m(\u001B[38;5;28mself\u001B[39m):\n\u001B[1;32m    213\u001B[0m     \u001B[38;5;28;01mif\u001B[39;00m \u001B[38;5;28mself\u001B[39m\u001B[38;5;241m.\u001B[39m_closed:\n\u001B[0;32m--> 214\u001B[0m         \u001B[38;5;28;01mraise\u001B[39;00m SessionError(\u001B[38;5;28mself\u001B[39m, \u001B[38;5;124m\"\u001B[39m\u001B[38;5;124mSession closed\u001B[39m\u001B[38;5;124m\"\u001B[39m)\n",
      "\u001B[0;31mSessionError\u001B[0m: Session closed"
     ]
    }
   ],
   "execution_count": 5
  },
  {
   "metadata": {},
   "cell_type": "code",
   "outputs": [],
   "execution_count": null,
   "source": "gdsdriver.close()",
   "id": "71ce8ec9af842ac"
  }
 ],
 "metadata": {
  "kernelspec": {
   "display_name": "Python 3",
   "language": "python",
   "name": "python3"
  },
  "language_info": {
   "codemirror_mode": {
    "name": "ipython",
    "version": 2
   },
   "file_extension": ".py",
   "mimetype": "text/x-python",
   "name": "python",
   "nbconvert_exporter": "python",
   "pygments_lexer": "ipython2",
   "version": "2.7.6"
  }
 },
 "nbformat": 4,
 "nbformat_minor": 5
}
