{
 "cells": [
  {
   "metadata": {},
   "cell_type": "markdown",
   "source": "# Temporal Node Embedding External Approach",
   "id": "3b4a3c3702a50ef2"
  },
  {
   "metadata": {},
   "cell_type": "markdown",
   "source": [
    "#### Import the required libraries\n",
    "First of all we have to install and import the libraries that we need for the implementation of the Temporal Node Embedding.\n",
    "\n",
    "- neo4j: The Neo4j Python driver is used to connect to the Neo4j database.\n",
    "- graphdatascience: The graph datascience client is a Python client for working with the Neo4j Graph Data Science Library which is used for the in-memory graph projection and the FastRP algorithm for the embedding.\n",
    "- numpy:  !!!!!"
   ],
   "id": "2da5ae2c1737a7d7"
  },
  {
   "metadata": {},
   "cell_type": "code",
   "source": [
    "%pip install neo4j\n",
    "%pip install graphdatascience\n",
    "%pip install numpy"
   ],
   "id": "1c9d848897b876d2",
   "outputs": [],
   "execution_count": null
  },
  {
   "metadata": {},
   "cell_type": "code",
   "source": [
    "import numpy as np\n",
    "import random\n",
    "import datetime\n",
    "from neo4j import GraphDatabase\n",
    "import graphdatascience"
   ],
   "id": "15e8d71db3c23f30",
   "outputs": [],
   "execution_count": null
  },
  {
   "metadata": {},
   "cell_type": "markdown",
   "source": [
    "### Configure Driver and Client\n",
    "\n",
    "We have to configure the driver and the client for the connection to the Neo4j database. The driver is used to execute Cypher queries and the client is used to execute the Graph Data Science Library algorithms.\n",
    "\n",
    "- Endpoint: Bolt URL of the Neo4j database\n",
    "- Username: Username\n",
    "- Password: Password\n",
    "- database: Database where you imported the trips"
   ],
   "id": "e7e5a85a27a523d3"
  },
  {
   "metadata": {},
   "cell_type": "code",
   "source": [
    "endpoint = \"neo4j://localhost:7687\"\n",
    "username = \"neo4j\"\n",
    "password = \"#Bachelorarbeit\"\n",
    "database = \"neo4j\"\n",
    "\n",
    "gds = graphdatascience.GraphDataScience(endpoint=endpoint, auth=(username, password))\n",
    "gds.set_database(database)\n",
    "\n",
    "db_driver = GraphDatabase.driver(endpoint, auth=(username,password))"
   ],
   "id": "4fce4a0ce5ae3a1",
   "outputs": [],
   "execution_count": null
  },
  {
   "metadata": {},
   "cell_type": "markdown",
   "source": [
    "### Function for computing Time Embeddings from Timestamps for Station\n",
    "\n",
    "Hier erklären !!!!"
   ],
   "id": "baf01ee6cdc51192"
  },
  {
   "metadata": {},
   "cell_type": "code",
   "source": [
    "def random_timestamp_for_station(station_id, suffix=\"start\"):\n",
    "    random.seed(f\"{station_id}_{suffix}\")  # unterscheidet start und endzeitpunkt für den randomseed damit ergebnis reproduzierbar ist\n",
    "\n",
    "    year = 2017\n",
    "    month = random.randint(1, 12)\n",
    "    day = random.randint(1, 28)\n",
    "    hour = random.randint(0, 23)\n",
    "    minute = random.randint(0, 59)\n",
    "    second = random.randint(0, 59)\n",
    "\n",
    "    return datetime.datetime(year, month, day, hour, minute, second)"
   ],
   "id": "166e506aa8038ea",
   "outputs": [],
   "execution_count": null
  },
  {
   "cell_type": "code",
   "id": "initial_id",
   "metadata": {
    "collapsed": true
   },
   "source": [
    "def timestamp_to_embedding(timestamp):\n",
    "    try:\n",
    "        d = timestamp.to_native()  # für Neo4j-Typen\n",
    "    except AttributeError:\n",
    "        d = timestamp # für stationsembedding\n",
    "\n",
    "    unix_timestamp = int(d.timestamp())\n",
    "    dt = datetime.datetime.fromtimestamp(unix_timestamp)\n",
    "\n",
    "    hour_sin = np.sin(2* np.pi * dt.hour /24)\n",
    "    hour_cos = np.cos(2* np.pi * dt.hour /24)\n",
    "\n",
    "    weekday_sin = np.sin(2* np.pi * dt.weekday() / 7)\n",
    "    weekday_cos = np.cos(2* np.pi * dt.weekday() / 7)\n",
    "\n",
    "    day_sin = np.sin(2* np.pi * dt.day / 7)\n",
    "    day_cos = np.cos(2* np.pi * dt.day / 7)\n",
    "\n",
    "    month_sin = np.sin(2* np.pi * dt.month / 12)\n",
    "    month_cos = np.cos(2* np.pi * dt.month / 12)\n",
    "\n",
    "    is_weekend = 1 if dt.weekday() >5 else 0\n",
    "\n",
    "    day_of_year = d.timetuple().tm_yday\n",
    "    unix_scaled = unix_timestamp / 1e9\n",
    "\n",
    "\n",
    "    return np.array([hour_sin, hour_cos, weekday_sin, weekday_cos, day_sin, day_cos,month_sin, month_cos, is_weekend, day_of_year, unix_scaled])"
   ],
   "outputs": [],
   "execution_count": null
  },
  {
   "metadata": {},
   "cell_type": "code",
   "source": [
    "def write_station_embeddings_batchwise(driver, batch_size=500):\n",
    "    with driver.session(database=database) as session:\n",
    "        result = session.run(\"\"\"\n",
    "            MATCH (s:Station)\n",
    "            RETURN id(s) AS station_id\n",
    "        \"\"\")\n",
    "\n",
    "        batch = []\n",
    "        count = 0\n",
    "        for record in result:\n",
    "            sid = record[\"station_id\"]\n",
    "\n",
    "            try:\n",
    "                start_dt = random_timestamp_for_station(sid, \"start\")\n",
    "                end_dt = random_timestamp_for_station(sid, \"end\")\n",
    "\n",
    "                startTimeStation_emb = timestamp_to_embedding(start_dt)\n",
    "                endTimeStation_emb = timestamp_to_embedding(end_dt)\n",
    "\n",
    "                batch.append({\n",
    "                    \"station_id\": sid,\n",
    "                    \"start\": startTimeStation_emb.tolist(),\n",
    "                    \"end\": endTimeStation_emb.tolist()\n",
    "                })\n",
    "\n",
    "            except Exception as e:\n",
    "                print(f\"Skipping station {sid}: {e}\")\n",
    "\n",
    "            if len(batch) >= batch_size:\n",
    "                _send_station_embedding_batch(driver, batch)\n",
    "                count += len(batch)\n",
    "                print(f\"{count} stations processed.\")\n",
    "                batch = []\n",
    "\n",
    "        if batch:\n",
    "            _send_station_embedding_batch(driver, batch)\n",
    "\n",
    "def _send_station_embedding_batch(driver, batch):\n",
    "    query = \"\"\"\n",
    "    CALL apoc.periodic.iterate(\n",
    "      'UNWIND $batch AS row RETURN row',\n",
    "      '\n",
    "      MATCH (s:Station) WHERE id(s) = row.station_id\n",
    "      SET s.startTimeEmbedding = row.start,\n",
    "          s.endTimeEmbedding = row.end\n",
    "      ',\n",
    "      {batchSize: 100, parallel: true, params: {batch: $batch}}\n",
    "    )\n",
    "    \"\"\"\n",
    "    with driver.session(database=database) as session:\n",
    "        session.run(query, batch=batch)\n",
    "\n",
    "\n",
    "write_station_embeddings_batchwise(db_driver)"
   ],
   "id": "ba34d62418a48a34",
   "outputs": [],
   "execution_count": null
  },
  {
   "metadata": {},
   "cell_type": "code",
   "source": [
    "def write_embeddings_batchwise(driver, batch_size=500):\n",
    "    with driver.session(database=database) as session:\n",
    "        result = session.run(\"\"\"\n",
    "            MATCH (t:Trip)\n",
    "            WHERE t.validFrom IS NOT NULL\n",
    "            RETURN id(t) AS node_id, t.validFrom AS ts\n",
    "        \"\"\")\n",
    "\n",
    "        batch = []\n",
    "        batchesSended = 0\n",
    "        for record in result:\n",
    "\n",
    "            try:\n",
    "                emb = timestamp_to_embedding(record[\"ts\"])\n",
    "                batch.append({\"node_id\": record[\"node_id\"], \"embedding\": emb.tolist()})\n",
    "            except Exception as e:\n",
    "                print(f\"Skipping node {record['node_id']}: {e}\")\n",
    "\n",
    "            # Wenn Stapel voll ist, sende ihn\n",
    "            if len(batch) >= batch_size:\n",
    "                _send_embedding_batch(driver, batch)\n",
    "                batchesSended += 500\n",
    "                print(batchesSended)\n",
    "                batch = []\n",
    "\n",
    "        # Letzten Rest senden\n",
    "        if batch:\n",
    "            _send_embedding_batch(driver, batch)\n",
    "\n",
    "def _send_embedding_batch(driver, batch):\n",
    "    query = \"\"\"\n",
    "    CALL apoc.periodic.iterate(\n",
    "      'UNWIND $batch AS row RETURN row',\n",
    "      '\n",
    "      MATCH (t:Trip) WHERE id(t) = row.node_id\n",
    "      SET t.startTimeEmbedding = row.embedding\n",
    "      ',\n",
    "      {batchSize: 100, parallel: true, params: {batch: $batch}}\n",
    "    )\n",
    "    \"\"\"\n",
    "    with driver.session(database=database) as session:\n",
    "        session.run(query, batch=batch)\n",
    "\n"
   ],
   "id": "2fbbb1c05a02ad90",
   "outputs": [],
   "execution_count": null
  },
  {
   "metadata": {},
   "cell_type": "code",
   "source": "write_embeddings_batchwise(db_driver)",
   "id": "f2527a627109bf89",
   "outputs": [],
   "execution_count": null
  },
  {
   "metadata": {},
   "cell_type": "code",
   "source": [
    "projection_query  = \"\"\"\n",
    "MATCH (source)-[r:HAS_START|HAS_END]->(target)\n",
    "WHERE source:Trip AND target:Station\n",
    "WITH gds.graph.project(\n",
    "  'externalGraph',\n",
    "  source,\n",
    "  target,\n",
    "  {\n",
    "    sourceNodeProperties: source {\n",
    "      externalTimeEmbedding: source.startTimeEmbedding\n",
    "    },\n",
    "    targetNodeProperties: target {\n",
    "     externalTimeEmbedding: target.startTimeEmbedding\n",
    "    }},\n",
    "  {undirectedRelationshipTypes: ['*']}\n",
    ") AS g\n",
    "RETURN g.graphName AS graph, g.nodeCount AS nodes, g.relationshipCount AS rels\n",
    "\"\"\"\n"
   ],
   "id": "5eeaf5e229b741cd",
   "outputs": [],
   "execution_count": null
  },
  {
   "metadata": {},
   "cell_type": "code",
   "source": [
    "with db_driver.session(database=database) as session:\n",
    "        session.run(projection_query)"
   ],
   "id": "ee9e498cc49b450d",
   "outputs": [],
   "execution_count": null
  },
  {
   "metadata": {},
   "cell_type": "code",
   "source": "G = gds.graph.get(\"externalGraph\")",
   "id": "a22d485221139a6e",
   "outputs": [],
   "execution_count": null
  },
  {
   "metadata": {},
   "cell_type": "code",
   "source": [
    "gds.fastRP.write.estimate(\n",
    "    G,\n",
    "    writeProperty=\"externalEmbedding\",\n",
    "    randomSeed = 42,\n",
    "    embeddingDimension= 128,\n",
    "    nodeSelfInfluence = 1.0,\n",
    "    propertyRatio = 0.5,\n",
    "    featureProperties = ['externalTimeEmbedding'],\n",
    "    iterationWeights = [1.0]\n",
    ")"
   ],
   "id": "f2bf378db1ff123",
   "outputs": [],
   "execution_count": null
  },
  {
   "metadata": {},
   "cell_type": "code",
   "source": [
    "#18min\n",
    "gds.fastRP.write(\n",
    "    G,\n",
    "    writeProperty=\"externalEmbedding\",\n",
    "    randomSeed = 42,\n",
    "    embeddingDimension= 128,\n",
    "    nodeSelfInfluence = 1.0,\n",
    "    propertyRatio = 0.5,\n",
    "    featureProperties = ['externalTimeEmbedding'],\n",
    "    iterationWeights = [1.0]\n",
    ")"
   ],
   "id": "257a1abc69d685e3",
   "outputs": [],
   "execution_count": null
  },
  {
   "metadata": {},
   "cell_type": "code",
   "source": "G.drop()",
   "id": "db30923160f331b8",
   "outputs": [],
   "execution_count": null
  },
  {
   "metadata": {},
   "cell_type": "code",
   "source": [
    "def create_vector_index(index_name, label, property_name, vector_dimension, similarity=\"cosine\"):\n",
    "    query = f\"\"\"\n",
    "    CREATE VECTOR INDEX {index_name} IF NOT EXISTS\n",
    "    FOR (n:{label})\n",
    "    ON (n.{property_name})\n",
    "    OPTIONS {{\n",
    "    indexConfig: {{\n",
    "        `vector.dimensions`: {vector_dimension},\n",
    "        `vector.similarity_function`: '{similarity}'\n",
    "        }}\n",
    "    }}\n",
    "    \"\"\"\n",
    "    with db_driver.session(database=database) as session:\n",
    "        session.run(query)\n",
    "create_vector_index( 'externalIndex','Trip', 'externalEmbedding', '128')"
   ],
   "id": "e3ca2686a67c362e",
   "outputs": [],
   "execution_count": null
  },
  {
   "metadata": {},
   "cell_type": "code",
   "source": [
    "gds.close()\n",
    "db_driver.close()"
   ],
   "id": "7332b352bd4b9d9c",
   "outputs": [],
   "execution_count": null
  }
 ],
 "metadata": {
  "kernelspec": {
   "display_name": "Python 3",
   "language": "python",
   "name": "python3"
  },
  "language_info": {
   "codemirror_mode": {
    "name": "ipython",
    "version": 2
   },
   "file_extension": ".py",
   "mimetype": "text/x-python",
   "name": "python",
   "nbconvert_exporter": "python",
   "pygments_lexer": "ipython2",
   "version": "2.7.6"
  }
 },
 "nbformat": 4,
 "nbformat_minor": 5
}
